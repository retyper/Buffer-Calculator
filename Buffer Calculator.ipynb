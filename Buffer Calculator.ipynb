{
 "cells": [
  {
   "cell_type": "code",
   "execution_count": 98,
   "metadata": {},
   "outputs": [],
   "source": [
    "#입력받는건 select box 에서 선택. mM나 %나 단위별로 밀도혹은 질량 받아야함.\n",
    "#물 밀도 보정 유무도 체크할수있게 해야함.\n",
    "#물질이 파우더가 아니라 액체라면? 알려진 g 작성하도록해?\n",
    "#pH나 cond 타겟도 맞출수있게 해볼까??\n",
    "import pandas as pd\n",
    "import numpy as np\n",
    "from pandas import Series"
   ]
  },
  {
   "cell_type": "code",
   "execution_count": 106,
   "metadata": {},
   "outputs": [
    {
     "data": {
      "text/html": [
       "<div>\n",
       "<style scoped>\n",
       "    .dataframe tbody tr th:only-of-type {\n",
       "        vertical-align: middle;\n",
       "    }\n",
       "\n",
       "    .dataframe tbody tr th {\n",
       "        vertical-align: top;\n",
       "    }\n",
       "\n",
       "    .dataframe thead th {\n",
       "        text-align: right;\n",
       "    }\n",
       "</style>\n",
       "<table border=\"1\" class=\"dataframe\">\n",
       "  <thead>\n",
       "    <tr style=\"text-align: right;\">\n",
       "      <th></th>\n",
       "      <th>MW</th>\n",
       "    </tr>\n",
       "    <tr>\n",
       "      <th>Name</th>\n",
       "      <th></th>\n",
       "    </tr>\n",
       "  </thead>\n",
       "  <tbody>\n",
       "    <tr>\n",
       "      <th>Acetic acid</th>\n",
       "      <td>60.052</td>\n",
       "    </tr>\n",
       "    <tr>\n",
       "      <th>Sodium Chloride</th>\n",
       "      <td>58.440</td>\n",
       "    </tr>\n",
       "    <tr>\n",
       "      <th>Tris-base</th>\n",
       "      <td>121.140</td>\n",
       "    </tr>\n",
       "  </tbody>\n",
       "</table>\n",
       "</div>"
      ],
      "text/plain": [
       "                      MW\n",
       "Name                    \n",
       "Acetic acid       60.052\n",
       "Sodium Chloride   58.440\n",
       "Tris-base        121.140"
      ]
     },
     "execution_count": 106,
     "metadata": {},
     "output_type": "execute_result"
    }
   ],
   "source": [
    "db = pd.read_csv('C:/Users/USER/Desktop/Python/buffer calculator/db.csv')\n",
    "db = db.set_index(\"Name\") #이걸해줘야  MW = db[\"MW\"][ingr] 실행 가능함.\n",
    "columns = [\"Material Name\", \"Molecular Weight(g/mol)\", \"Target Molarity(M)\", \"Weight(g)\"] #series 사용을 위한 df columns 정의\n",
    "db"
   ]
  },
  {
   "cell_type": "code",
   "execution_count": 108,
   "metadata": {},
   "outputs": [],
   "source": [
    "def clear(df): #df 초기화\n",
    "    columns = [\"Material Name\", \"Molecular Weight(g/mol)\", \"Target Molarity(M)\", \"Weight(g)\"]\n",
    "    df = pd.DataFrame(columns=columns)\n",
    "    return df\n",
    "\n",
    "def add(): # ingredient 정보입력\n",
    "    ingr = input(\"Material Name: \")\n",
    "    if ingr == '':\n",
    "        return ingr, 0.0\n",
    "    M = input(\"Material Target Molarity(M): \")\n",
    "    M = float(M)\n",
    "    return ingr,M\n",
    "\n",
    "def buffer(ingr,M): #name 과 target mol 넣으면 name, MW, g 출력\n",
    "    MW = db[\"MW\"][ingr]\n",
    "    g = MW * M\n",
    "    return ingr,MW,M,g\n"
   ]
  },
  {
   "cell_type": "code",
   "execution_count": 101,
   "metadata": {},
   "outputs": [
    {
     "name": "stdout",
     "output_type": "stream",
     "text": [
      "target volume을 입력하세요(L): 1\n"
     ]
    }
   ],
   "source": [
    "df = clear(df)\n",
    "df\n",
    "\n",
    "vol = input(\"Target volume을 입력하세요(L): \")\n",
    "vol = float(vol)"
   ]
  },
  {
   "cell_type": "markdown",
   "metadata": {},
   "source": [
    "함수없이 만들어본부분\n",
    "\n",
    "m1 = input(\"Material1: \")\n",
    "mw1= db[\"MW\"][m1] # g/mol\n",
    "M1 = input(\"Material1 Target Molarity(M): \") # mol\n",
    "M1 = float(M1)\n",
    "g1 = mw1 * M1\n",
    "pw = vol * 1000 - g1\n",
    "print(\"Total volume : {}L\\nMaterial1 : {} {}g\\nPW : {}\".format(vol,m1,g1,pw) )\n",
    "\n",
    "m2 = input(\"Material2: \")\n",
    "mw2= db[\"MW\"][m2] # g/mol\n",
    "M2 = input(\"Material1 Target Molarity(M): \") # mol\n",
    "M2 = float(M2)\n",
    "g2 = mw2 * M2\n",
    "pw = vol * 1000 - g2\n",
    "print(\"Total volume : {}L\\nMaterial1 : {} {}g\\nMaterial2 : {} {}g\\nPW : {}\".format(vol,m1,g1,m2,g2,pw) )"
   ]
  },
  {
   "cell_type": "code",
   "execution_count": 116,
   "metadata": {},
   "outputs": [
    {
     "name": "stdout",
     "output_type": "stream",
     "text": [
      "Material Name: \n",
      "Empty DataFrame\n",
      "Columns: [Material Name, Molecular Weight(g/mol), Target Molarity(M), Weight(g)]\n",
      "Index: []\n",
      "Purified water volume(g) : 1000.0\n",
      "Total volume(L) : 1.0\n"
     ]
    }
   ],
   "source": [
    "while vol: #계산기. 하나입력때 마다 리스트 보여주고 ingredient 입력에서 엔터해버리면 최종리스트랑같이 pw 계산됨.\n",
    "    ingr, M = add()\n",
    "    if ingr == '':\n",
    "        ingr_weight = df['Weight(g)'].sum()\n",
    "        pw= vol * 1000 - ingr_weight\n",
    "        print(df)\n",
    "        print(\"Purified water volume(g) : {}\".format(pw))\n",
    "        print(\"Total volume(L) : {}\".format(vol))\n",
    "        break\n",
    "    new = buffer(ingr,M)\n",
    "    s = Series(data=new, index=columns)\n",
    "    df = df.append(s, ignore_index=True)\n",
    "    print(df)"
   ]
  },
  {
   "cell_type": "code",
   "execution_count": 115,
   "metadata": {},
   "outputs": [],
   "source": [
    "df = clear(df)"
   ]
  },
  {
   "cell_type": "code",
   "execution_count": 117,
   "metadata": {},
   "outputs": [
    {
     "data": {
      "text/html": [
       "<div>\n",
       "<style scoped>\n",
       "    .dataframe tbody tr th:only-of-type {\n",
       "        vertical-align: middle;\n",
       "    }\n",
       "\n",
       "    .dataframe tbody tr th {\n",
       "        vertical-align: top;\n",
       "    }\n",
       "\n",
       "    .dataframe thead th {\n",
       "        text-align: right;\n",
       "    }\n",
       "</style>\n",
       "<table border=\"1\" class=\"dataframe\">\n",
       "  <thead>\n",
       "    <tr style=\"text-align: right;\">\n",
       "      <th></th>\n",
       "      <th>Material Name</th>\n",
       "      <th>Molecular Weight(g/mol)</th>\n",
       "      <th>Target Molarity(M)</th>\n",
       "      <th>Weight(g)</th>\n",
       "    </tr>\n",
       "  </thead>\n",
       "  <tbody>\n",
       "  </tbody>\n",
       "</table>\n",
       "</div>"
      ],
      "text/plain": [
       "Empty DataFrame\n",
       "Columns: [Material Name, Molecular Weight(g/mol), Target Molarity(M), Weight(g)]\n",
       "Index: []"
      ]
     },
     "execution_count": 117,
     "metadata": {},
     "output_type": "execute_result"
    }
   ],
   "source": [
    "df"
   ]
  }
 ],
 "metadata": {
  "kernelspec": {
   "display_name": "Python 3",
   "language": "python",
   "name": "python3"
  },
  "language_info": {
   "codemirror_mode": {
    "name": "ipython",
    "version": 3
   },
   "file_extension": ".py",
   "mimetype": "text/x-python",
   "name": "python",
   "nbconvert_exporter": "python",
   "pygments_lexer": "ipython3",
   "version": "3.7.7"
  }
 },
 "nbformat": 4,
 "nbformat_minor": 4
}
